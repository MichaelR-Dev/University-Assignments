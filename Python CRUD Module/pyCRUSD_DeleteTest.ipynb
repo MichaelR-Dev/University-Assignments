{
 "cells": [
  {
   "cell_type": "code",
   "execution_count": 1,
   "id": "82feec4a",
   "metadata": {},
   "outputs": [
    {
     "name": "stdout",
     "output_type": "stream",
     "text": [
      "True\n",
      "[{'_id': ObjectId('6479a4490ddb4ed16a13b90a'),\n",
      "  'age_upon_outcome': '2 years',\n",
      "  'age_upon_outcome_in_weeks': 106.662202380952,\n",
      "  'animal_id': 'A6738301',\n",
      "  'animal_type': 'DeleteTest',\n",
      "  'breed': 'Pit Bull Mix',\n",
      "  'color': 'Black/White',\n",
      "  'date_of_birth': '2017-03-03',\n",
      "  'datetime': '2023-03-19 15:15:00',\n",
      "  'location_lat': 30.2954256583441,\n",
      "  'location_long': -97.3136642110436,\n",
      "  'monthyear': '2023-03-19T15:15:00',\n",
      "  'name': 'Bartholomew',\n",
      "  'outcome_subtype': 'Partner',\n",
      "  'outcome_type': 'Transfer',\n",
      "  'rec_num': 7,\n",
      "  'sex_upon_outcome': 'Neutered Male'}]\n",
      "1\n",
      "[]\n"
     ]
    }
   ],
   "source": [
    "#Dependencies\n",
    "\n",
    "## PROJECT MODULES\n",
    "### mongo.py - pyCRUSD MongoDB Class\n",
    "import mongo\n",
    "\n",
    "## EXTERNAL MODULES\n",
    "## pprint - prettyprint for friendlier console outputs\n",
    "from pprint import pprint\n",
    "\n",
    "#Initialize Client\n",
    "db_client = mongo.AnimalShelter()\n",
    "\n",
    "#Document to be created, read, and deleted, then read for confirmed deletion\n",
    "data = {\n",
    "    'age_upon_outcome': '2 years',\n",
    "    'age_upon_outcome_in_weeks': 106.662202380952,\n",
    "    'animal_id': 'A6738301',\n",
    "    'animal_type': 'DeleteTest',\n",
    "    'breed': 'Pit Bull Mix',\n",
    "    'color': 'Black/White',\n",
    "    'date_of_birth': '2017-03-03',\n",
    "    'datetime': '2023-03-19 15:15:00',\n",
    "    'location_lat': 30.2954256583441,\n",
    "    'location_long': -97.3136642110436,\n",
    "    'monthyear': '2023-03-19T15:15:00',\n",
    "    'name': 'Bartholomew',\n",
    "    'outcome_subtype': 'Partner',\n",
    "    'outcome_type': 'Transfer',\n",
    "    'rec_num': 7,\n",
    "    'sex_upon_outcome': 'Neutered Male'\n",
    "}\n",
    "\n",
    "pprint(db_client.create(data))\n",
    "\n",
    "pprint(db_client.read({'animal_type': 'DeleteTest'}))\n",
    "\n",
    "pprint(db_client.delete({'animal_type': 'DeleteTest'}, True))\n",
    "\n",
    "pprint(db_client.read({'animal_type': 'DeleteTest'}))"
   ]
  },
  {
   "cell_type": "code",
   "execution_count": null,
   "id": "e1d5d834",
   "metadata": {},
   "outputs": [],
   "source": []
  }
 ],
 "metadata": {
  "kernelspec": {
   "display_name": "Python 3 (ipykernel)",
   "language": "python",
   "name": "python3"
  },
  "language_info": {
   "codemirror_mode": {
    "name": "ipython",
    "version": 3
   },
   "file_extension": ".py",
   "mimetype": "text/x-python",
   "name": "python",
   "nbconvert_exporter": "python",
   "pygments_lexer": "ipython3",
   "version": "3.11.2"
  }
 },
 "nbformat": 4,
 "nbformat_minor": 5
}
